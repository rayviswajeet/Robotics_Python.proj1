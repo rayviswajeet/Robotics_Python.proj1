{
  "nbformat": 4,
  "nbformat_minor": 0,
  "metadata": {
    "colab": {
      "name": "Untitled3.ipynb",
      "provenance": [],
      "collapsed_sections": [],
      "authorship_tag": "ABX9TyO4EzFPIXI1dW97N67wkr9H",
      "include_colab_link": true
    },
    "kernelspec": {
      "name": "python3",
      "display_name": "Python 3"
    },
    "language_info": {
      "name": "python"
    }
  },
  "cells": [
    {
      "cell_type": "markdown",
      "metadata": {
        "id": "view-in-github",
        "colab_type": "text"
      },
      "source": [
        "<a href=\"https://colab.research.google.com/github/rayviswajeet/Robotics_Python.proj1/blob/main/Python%20proj.ipynb\" target=\"_parent\"><img src=\"https://colab.research.google.com/assets/colab-badge.svg\" alt=\"Open In Colab\"/></a>"
      ]
    },
    {
      "cell_type": "code",
      "metadata": {
        "colab": {
          "base_uri": "https://localhost:8080/"
        },
        "id": "MYjfyRujY5u_",
        "outputId": "da23682c-ddec-4b66-f0d7-eae62e47deca"
      },
      "source": [
        "import numpy as np \n",
        "import random\n",
        "\n",
        "\n",
        "again = 'y'\n",
        "while again == 'y': #Condtion to check if you want to play again\n",
        "  num = random.randint(1000,9999) # Computer taking a 4-digit random no.\n",
        "  l1 = [int(a) for a in str(num)] # Breaking the no. into list with each element as a digit \n",
        "  guess, count, score= None, 0, 20\n",
        "\n",
        "  while count<=10:\n",
        "    guess = input(\"Guess a Number:\") # Gaking in Guessed no. from user\n",
        "    l2 = [int(a) for a in str(guess)] # Breaking the no. into list with each element as a digit \n",
        "    \n",
        "    if l1 == l2: #condition when the guess is correct\n",
        "      print(\"All Digits in the Correct Place.\\nYou have won the game!!\")\n",
        "      score = score + 5\n",
        "      break\n",
        "   \n",
        "    else :\n",
        "      p = correct_pos(l1,l2) #total correct guessed digits\n",
        "      q = wrong_pos(l2,p) # total wrong guessed digits\n",
        "      print(\"Output-\\n\",set(l1).intersection(l2),\"guessed correctly.\") #prints total gits guessed correctly\n",
        "      print( p,\" placed in correct position\") #prints list of digits in correct position\n",
        "      print( q,\" placed in wrong position.\\nTurns remaining -\", (10-count),\"\\n\") #prints list of digits in wrong position\n",
        "      score = score - 2\n",
        "      \n",
        "    count+=1\n",
        "    if count == 10:\n",
        "      print(\"Sorry you failed!\") #prints failed if more than 10 attempts \n",
        "\n",
        "  print(\"Your Score: \", score)\n",
        "  again=input(\"Do you want to play again?(y/n):\")[0]\n",
        "  print(\"\\n\")\n",
        "#-------------------------------------------------------------------------------\n",
        "def correct_pos (l1,l2) : #function list the digits in correct position\n",
        " k1 = [i for i, j in zip(l1, l2) if i==j]\n",
        " return(k1)\n",
        "\n",
        "def wrong_pos (l2,p) : #function to list the digits in wrong position\n",
        " k2 = tuple(set(l2) ^ set(p))\n",
        " return(k2)\n",
        "\n",
        " \n",
        " "
      ],
      "execution_count": 18,
      "outputs": [
        {
          "output_type": "stream",
          "text": [
            "Guess a Number:1234\n",
            "Output-\n",
            " {3} guessed correctly.\n",
            "[3]  placed in correct position\n",
            "(1, 2, 4)  placed in wrong position.\n",
            "Turns remaining - 10 \n",
            "\n",
            "Guess a Number:5637\n",
            "Output-\n",
            " {3, 7} guessed correctly.\n",
            "[3, 7]  placed in correct position\n",
            "(5, 6)  placed in wrong position.\n",
            "Turns remaining - 9 \n",
            "\n",
            "Guess a Number:8937\n",
            "Output-\n",
            " {9, 3, 7} guessed correctly.\n",
            "[9, 3, 7]  placed in correct position\n",
            "(8,)  placed in wrong position.\n",
            "Turns remaining - 8 \n",
            "\n",
            "Guess a Number:3937\n",
            "All Digits in the Correct Place.\n",
            "You have won the game!!\n",
            "Your Score:  19\n",
            "Do you want to play again?(y/n):n\n",
            "\n",
            "\n"
          ],
          "name": "stdout"
        }
      ]
    }
  ]
}